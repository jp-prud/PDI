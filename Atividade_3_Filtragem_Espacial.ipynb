{
  "nbformat": 4,
  "nbformat_minor": 0,
  "metadata": {
    "colab": {
      "provenance": [],
      "authorship_tag": "ABX9TyMDK/bKe8SDeUJkR6CxsLrK",
      "include_colab_link": true
    },
    "kernelspec": {
      "name": "python3",
      "display_name": "Python 3"
    },
    "language_info": {
      "name": "python"
    }
  },
  "cells": [
    {
      "cell_type": "markdown",
      "metadata": {
        "id": "view-in-github",
        "colab_type": "text"
      },
      "source": [
        "<a href=\"https://colab.research.google.com/github/jp-prud/PDI/blob/main/Atividade_3_Filtragem_Espacial.ipynb\" target=\"_parent\"><img src=\"https://colab.research.google.com/assets/colab-badge.svg\" alt=\"Open In Colab\"/></a>"
      ]
    },
    {
      "cell_type": "markdown",
      "source": [
        "## Suavização"
      ],
      "metadata": {
        "id": "QEfTu9yKDGal"
      }
    },
    {
      "cell_type": "markdown",
      "source": [
        "Convolução"
      ],
      "metadata": {
        "id": "WgkcHv_2DKO4"
      }
    },
    {
      "cell_type": "code",
      "source": [
        "def convolucao(image, kernel):\n",
        "    height, width = image.shape\n",
        "    kHeight, kWidth = kernel.shape\n",
        "\n",
        "    padHeight = kHeight // 2\n",
        "    padWidth = kWidth // 2\n",
        "\n",
        "    result = np.zeros((height, width), dtype=np.float32)\n",
        "\n",
        "    for i in range(padHeight, height - padHeight):\n",
        "        for j in range(padWidth, width - padWidth):\n",
        "            conv = 0.0\n",
        "\n",
        "            for m in range(-padHeight, padHeight + 1):\n",
        "                for n in range(-padWidth, padWidth + 1):\n",
        "                    conv += image[i + m, j + n] * kernel[m + padHeight, n + padWidth]\n",
        "            result[i, j] = conv\n",
        "    return result"
      ],
      "metadata": {
        "id": "52t2-A84DJ-N"
      },
      "execution_count": null,
      "outputs": []
    },
    {
      "cell_type": "markdown",
      "source": [
        "Filtro gaussiano"
      ],
      "metadata": {
        "id": "xtqS6kLXrC-b"
      }
    },
    {
      "cell_type": "code",
      "source": [
        "import cv2\n",
        "import numpy as np\n",
        "import scipy.stats as stats\n",
        "from skimage.util import random_noise\n",
        "\n",
        "image = cv2.imread('t1.jpg')\n",
        "\n",
        "def filtro_gaussiano_manual(image, tamanho_mascara, desvio_padrao):\n",
        "    altura, largura, _ = image.shape\n",
        "    mascara = np.zeros((tamanho_mascara, tamanho_mascara))\n",
        "    centro = tamanho_mascara // 2\n",
        "\n",
        "    for y in range(tamanho_mascara):\n",
        "        for x in range(tamanho_mascara):\n",
        "            ky = y - centro\n",
        "            kx = x - centro\n",
        "            mascara[y, x] = stats.norm.pdf(np.sqrt(ky ** 2 + kx ** 2), scale=desvio_padrao)\n",
        "    mascara /= mascara.sum()\n",
        "\n",
        "    output = np.zeros_like(image)\n",
        "\n",
        "    for y in range(altura):\n",
        "        for x in range(largura):\n",
        "            for c in range(3):\n",
        "                soma = 0\n",
        "                for ky in range(tamanho_mascara):\n",
        "                    for kx in range(tamanho_mascara):\n",
        "                        py = y - tamanho_mascara // 2 + ky\n",
        "                        px = x - tamanho_mascara // 2 + kx\n",
        "                        if py >= 0 and px >= 0 and py < altura and px < largura:\n",
        "                            soma += image[py, px, c] * mascara[ky, kx]\n",
        "                output[y, x, c] = int(soma)\n",
        "\n",
        "    return output\n",
        "\n",
        "img_ruido = random_noise(image, mode='s&p', amount=0.05)\n",
        "img_ruido = (255 * img_ruido).astype(np.uint8)\n",
        "\n",
        "smoothed_3x3_manual = filtro_gaussiano_manual(img_ruido, 3, 1)\n",
        "smoothed_5x5_manual = filtro_gaussiano_manual(img_ruido, 5, 1)\n",
        "smoothed_7x7_manual = filtro_gaussiano_manual(img_ruido, 7, 1)\n",
        "\n",
        "cv2.imshow('Gaussiana Manual 3x3', smoothed_3x3_manual)\n",
        "cv2.imshow('Gaussiana Manual 5x5', smoothed_5x5_manual)\n",
        "cv2.imshow('Gaussiana Manual 7x7', smoothed_7x7_manual)\n",
        "cv2.waitKey(0)\n",
        "cv2.destroyAllWindows()"
      ],
      "metadata": {
        "id": "ajvzzKEmrCvg"
      },
      "execution_count": null,
      "outputs": []
    },
    {
      "cell_type": "markdown",
      "source": [
        "[Filtro Gaussiano](https://imgur.com/4jwCqbH)"
      ],
      "metadata": {
        "id": "wXtXLnvK-8Ry"
      }
    },
    {
      "cell_type": "markdown",
      "source": [
        "Filtro mediana manual"
      ],
      "metadata": {
        "id": "sTd5LisRplPp"
      }
    },
    {
      "cell_type": "code",
      "source": [
        "import cv2\n",
        "import numpy as np\n",
        "from skimage.util import random_noise\n",
        "\n",
        "image = cv2.imread('t1.jpg')\n",
        "\n",
        "def filtro_mediana_manual(image, tamanho_mascara):\n",
        "    altura, largura, _ = image.shape\n",
        "    output = np.zeros_like(image)\n",
        "\n",
        "    for y in range(altura):\n",
        "        for x in range(largura):\n",
        "            for c in range(3):\n",
        "                valores = []\n",
        "                for ky in range(tamanho_mascara):\n",
        "                    for kx in range(tamanho_mascara):\n",
        "                        py = y - tamanho_mascara // 2 + ky\n",
        "                        px = x - tamanho_mascara // 2 + kx\n",
        "                        if py >= 0 and px >= 0 and py < altura and px < largura:\n",
        "                            valores.append(image[py, px, c])\n",
        "                output[y, x, c] = np.median(valores)\n",
        "\n",
        "    return output\n",
        "\n",
        "img_ruido = random_noise(image, mode='s&p', amount=0.05)\n",
        "img_ruido = (255 * img_ruido).astype(np.uint8)\n",
        "\n",
        "smoothed_3x3_manual = filtro_mediana_manual(img_ruido, 3)\n",
        "smoothed_5x5_manual = filtro_mediana_manual(img_ruido, 5)\n",
        "smoothed_7x7_manual = filtro_mediana_manual(img_ruido, 7)\n",
        "\n",
        "cv2.imshow('Imagem Original', img_ruido)\n",
        "cv2.imshow('Mediana Manual 3x3', smoothed_3x3_manual)\n",
        "cv2.imshow('Mediana Manual 5x5', smoothed_5x5_manual)\n",
        "cv2.imshow('Mediana Manual 7x7', smoothed_7x7_manual)\n",
        "cv2.waitKey(0)\n",
        "cv2.destroyAllWindows()\n"
      ],
      "metadata": {
        "id": "qIhprC0MnvZL"
      },
      "execution_count": null,
      "outputs": []
    },
    {
      "cell_type": "markdown",
      "source": [
        "[Filtro mediana manual](https://imgur.com/43s2y46)"
      ],
      "metadata": {
        "id": "mqsf0NG3_pDO"
      }
    },
    {
      "cell_type": "markdown",
      "source": [
        "Filtro média manual"
      ],
      "metadata": {
        "id": "29xnpNmdnvuS"
      }
    },
    {
      "cell_type": "code",
      "execution_count": null,
      "metadata": {
        "id": "FEQj24dG5H4Y"
      },
      "outputs": [],
      "source": [
        "import cv2\n",
        "import numpy as np\n",
        "from skimage.util import random_noise\n",
        "import matplotlib.pyplot as plt\n",
        "\n",
        "image = cv2.imread('t1.jpg')\n",
        "\n",
        "def filtro_media_manual(image, tamanho_mascara):\n",
        "    altura, largura, _ = image.shape\n",
        "    mascara = np.ones((tamanho_mascara, tamanho_mascara)) / (tamanho_mascara * tamanho_mascara)\n",
        "    output = np.zeros_like(image)\n",
        "\n",
        "    for y in range(altura):\n",
        "        for x in range(largura):\n",
        "            for c in range(3):\n",
        "                soma = 0\n",
        "                for ky in range(tamanho_mascara):\n",
        "                    for kx in range(tamanho_mascara):\n",
        "                        py = y - tamanho_mascara // 2 + ky\n",
        "                        px = x - tamanho_mascara // 2 + kx\n",
        "                        if py >= 0 and px >= 0 and py < altura and px < largura:\n",
        "                            soma += image[py, px, c] * mascara[ky, kx]\n",
        "                output[y, x, c] = int(soma)\n",
        "\n",
        "    return output\n",
        "\n",
        "img_ruido = random_noise(image, mode='s&p', amount=0.05)\n",
        "img_ruido = (255 * img_ruido).astype(np.uint8)\n",
        "\n",
        "img_3x3_suavizada = filtro_media_manual(img_ruido, 3)\n",
        "\n",
        "img_5x5_suavizada = filtro_media_manual(img_ruido, 5)\n",
        "\n",
        "img_7x7_suavizada = filtro_media_manual(img_ruido, 7)\n",
        "\n",
        "cv2.imshow('Imagem Ruidosa', img_ruido)\n",
        "cv2.imshow('Suavização Média 3x3', img_3x3_suavizada)\n",
        "cv2.imshow('Suavização Média 5x5', img_5x5_suavizada)\n",
        "cv2.imshow('Suavização Média 7x7', img_7x7_suavizada)\n",
        "cv2.waitKey(0)\n",
        "cv2.destroyAllWindows()"
      ]
    },
    {
      "cell_type": "markdown",
      "source": [
        "[Filtro média manual](https://imgur.com/xMrXiro)"
      ],
      "metadata": {
        "id": "fnKf8bhwAjRj"
      }
    },
    {
      "cell_type": "markdown",
      "source": [
        "## Sharpening"
      ],
      "metadata": {
        "id": "9OMr7TIxFSn-"
      }
    },
    {
      "cell_type": "markdown",
      "source": [
        "LAPLACIANO - 3.37 A"
      ],
      "metadata": {
        "id": "2neBKwNGBKkg"
      }
    },
    {
      "cell_type": "code",
      "source": [
        "import cv2\n",
        "import numpy as np\n",
        "\n",
        "img = cv2.imread('t1.jpg', cv2.IMREAD_GRAYSCALE)\n",
        "\n",
        "mascara1 = np.array([[0, 1, 0], [1, -4, 1], [0, 1, 0]], dtype=np.float32)\n",
        "\n",
        "img_mascarada1 = cv2.filter2D(img, -1, mascara1)\n",
        "\n",
        "cv2.imshow(\"Imagem original\", img)\n",
        "cv2.imshow(\"Imagem mascarada 3.37 A\", img_mascarada1)\n",
        "cv2.waitKey(0)\n",
        "cv2.destroyAllWindows()"
      ],
      "metadata": {
        "id": "Enx_yGx4BKEc"
      },
      "execution_count": null,
      "outputs": []
    },
    {
      "cell_type": "markdown",
      "source": [
        "[LAPLACIANO - 3.37 - A](https://imgur.com/n9RCv2G)"
      ],
      "metadata": {
        "id": "U7bhHPHQHIPs"
      }
    },
    {
      "cell_type": "markdown",
      "source": [
        "LAPLACIANO - 3.37 - B"
      ],
      "metadata": {
        "id": "DaGYw16CBKcc"
      }
    },
    {
      "cell_type": "code",
      "source": [
        "import cv2\n",
        "import numpy as np\n",
        "\n",
        "img = cv2.imread('t1.jpg', cv2.IMREAD_GRAYSCALE)\n",
        "\n",
        "mascara2 = np.array([[1, 1, 1], [1, -8, 1], [1, 1, 1]], dtype=np.float32)\n",
        "\n",
        "img_mascarada2 = cv2.filter2D(img, -1, mascara2)\n",
        "\n",
        "cv2.imshow(\"Imagem mascarada 3.37 B\", img_mascarada2)\n",
        "cv2.waitKey(0)\n",
        "cv2.destroyAllWindows()\n"
      ],
      "metadata": {
        "id": "SPHYyd8GBJ9M"
      },
      "execution_count": null,
      "outputs": []
    },
    {
      "cell_type": "markdown",
      "source": [
        "[LAPLACIANO - 3.37 - B](https://imgur.com/CGR74fE)"
      ],
      "metadata": {
        "id": "FYJgvqisHoki"
      }
    },
    {
      "cell_type": "markdown",
      "source": [
        "LAPLACIANO - 3.37 - C"
      ],
      "metadata": {
        "id": "DCYTfsRvIA9Z"
      }
    },
    {
      "cell_type": "code",
      "source": [
        "import cv2\n",
        "import numpy as np\n",
        "\n",
        "img = cv2.imread('t1.jpg', cv2.IMREAD_GRAYSCALE)\n",
        "\n",
        "mascara3 = np.array([[0, -1, 0], [-1, 4, -1], [0, -1, 0]], dtype=np.float32)\n",
        "\n",
        "img_mascarada3 = cv2.filter2D(img, -1, mascara3)\n",
        "\n",
        "cv2.imshow(\"Imagem mascarada 3.37 C\", img_mascarada3)\n",
        "cv2.waitKey(0)\n",
        "cv2.destroyAllWindows()\n"
      ],
      "metadata": {
        "id": "A_LM7gwwIBwl"
      },
      "execution_count": null,
      "outputs": []
    },
    {
      "cell_type": "markdown",
      "source": [
        "[LAPLACIANO - 3.37 - C](https://imgur.com/1Q8CAGz)"
      ],
      "metadata": {
        "id": "DNNQqpXtILPV"
      }
    },
    {
      "cell_type": "markdown",
      "source": [
        "LAPLACIANO - 3.37 - D"
      ],
      "metadata": {
        "id": "AuPNGmTPIlO2"
      }
    },
    {
      "cell_type": "code",
      "source": [
        "import cv2\n",
        "import numpy as np\n",
        "\n",
        "img = cv2.imread('t1.jpg', cv2.IMREAD_GRAYSCALE)\n",
        "\n",
        "mascara3 = np.array([[0, -1, 0], [-1, 4, -1], [0, -1, 0]], dtype=np.float32)\n",
        "\n",
        "img_mascarada3 = cv2.filter2D(img, -1, mascara3)\n",
        "\n",
        "cv2.imshow('Imagem Original', img)\n",
        "cv2.imshow(\"Imagem mascarada 3.37 C\", img_mascarada3)\n",
        "cv2.waitKey(0)\n",
        "cv2.destroyAllWindows()"
      ],
      "metadata": {
        "id": "GrEy5EQ1IK-y"
      },
      "execution_count": null,
      "outputs": []
    },
    {
      "cell_type": "markdown",
      "source": [
        "[LAPLACIANO - 3.37 - D](https://imgur.com/sSyEhjg)"
      ],
      "metadata": {
        "id": "71sNnpcOI7Q0"
      }
    },
    {
      "cell_type": "markdown",
      "source": [
        "SHARPENING - 3.38 A"
      ],
      "metadata": {
        "id": "4uKODvacJdBC"
      }
    },
    {
      "cell_type": "code",
      "source": [
        "print(\"Imagem originaL\")\n",
        "cv2_imshow(img)"
      ],
      "metadata": {
        "id": "pqLgIfsWJdP0"
      },
      "execution_count": null,
      "outputs": []
    },
    {
      "cell_type": "markdown",
      "source": [
        "SHARPENING - 3.38 B"
      ],
      "metadata": {
        "id": "d6ZS7n77J7JF"
      }
    },
    {
      "cell_type": "code",
      "source": [
        "import cv2\n",
        "import numpy as np\n",
        "\n",
        "img = cv2.imread('t1.jpg', cv2.IMREAD_GRAYSCALE)\n",
        "\n",
        "mascara1 = np.array([[0, 1, 0], [1, -4, 1], [0, 1, 0]], dtype=np.float32)\n",
        "\n",
        "img_mascarada1 = cv2.filter2D(img, -1, mascara1)\n",
        "cv2.imshow(\"Imagem em Tons de Cinza\", img)\n",
        "cv2.imshow(\"Imagem mascarada 3.37 B\", img_mascarada1)\n",
        "\n",
        "cv2.waitKey(0)\n",
        "cv2.destroyAllWindows()\n"
      ],
      "metadata": {
        "id": "-blFEFiCJ5nt"
      },
      "execution_count": null,
      "outputs": []
    },
    {
      "cell_type": "markdown",
      "source": [
        "[SHARPENING - 3.38 B](https://imgur.com/radfdQC)"
      ],
      "metadata": {
        "id": "bUWNMkGYJc6-"
      }
    },
    {
      "cell_type": "markdown",
      "source": [
        "SHARPENING - 3.38 C"
      ],
      "metadata": {
        "id": "vRNbyLBcJDzv"
      }
    },
    {
      "cell_type": "code",
      "source": [],
      "metadata": {
        "id": "2oUqfg0VI64b"
      },
      "execution_count": null,
      "outputs": []
    },
    {
      "cell_type": "markdown",
      "source": [
        "[SHARPENING - 3.38 C](https://)"
      ],
      "metadata": {
        "id": "b9CcXHXpKb85"
      }
    },
    {
      "cell_type": "markdown",
      "source": [
        "SHARPENING - 3.38 D - Imagem aguçada"
      ],
      "metadata": {
        "id": "oFSpvExpOE6u"
      }
    },
    {
      "cell_type": "code",
      "source": [
        "import cv2\n",
        "import numpy as np\n",
        "\n",
        "image = cv2.imread('t1.jpg', cv2.IMREAD_GRAYSCALE)\n",
        "\n",
        "laplacian_mask = np.array([[0, 1, 0], [1, -4, 1], [0, 1, 0]], dtype=np.float32)\n",
        "laplacian = cv2.filter2D(image, -1, laplacian_mask)\n",
        "\n",
        "c = -1\n",
        "sharpened_image = image + c * laplacian\n",
        "sharpened_image = np.clip(sharpened_image, 0, 255)\n",
        "sharpened_image = np.uint8(sharpened_image)\n",
        "\n",
        "print(\"Sharpened Image\")\n",
        "cv2.imshow(\"Sharpened Image\", sharpened_image)\n",
        "cv2.waitKey(0)\n",
        "cv2.destroyAllWindows()\n"
      ],
      "metadata": {
        "id": "jNaqQY8VOEYN"
      },
      "execution_count": null,
      "outputs": []
    },
    {
      "cell_type": "markdown",
      "source": [
        "[SHARPENING - 3.38 D](https://imgur.com/Qm5pDue)"
      ],
      "metadata": {
        "id": "eLJNKlaDOJEU"
      }
    },
    {
      "cell_type": "markdown",
      "source": [
        "SHARPENING - 3.38 E"
      ],
      "metadata": {
        "id": "hKkJxlP5PgnN"
      }
    },
    {
      "cell_type": "code",
      "source": [
        "import cv2\n",
        "import numpy as np\n",
        "\n",
        "image = cv2.imread('t1.jpg', cv2.IMREAD_GRAYSCALE)\n",
        "\n",
        "laplacian_mask = np.array([[1, 1, 1], [1, -8, 1], [1, 1, 1]], dtype=np.float32)\n",
        "laplacian = cv2.filter2D(image, -1, laplacian_mask)\n",
        "\n",
        "c = -1\n",
        "sharpened_image = image + c * laplacian\n",
        "sharpened_image = np.clip(sharpened_image, 0, 255)\n",
        "sharpened_image = np.uint8(sharpened_image)\n",
        "\n",
        "print(\"Sharpened Image (Mask 3.37 B)\")\n",
        "cv2.imshow(\"Sharpened Image (Mask 3.37 B)\", sharpened_image)\n",
        "cv2.waitKey(0)\n",
        "cv2.destroyAllWindows()\n"
      ],
      "metadata": {
        "id": "rDT9yKw2PoCJ"
      },
      "execution_count": null,
      "outputs": []
    },
    {
      "cell_type": "markdown",
      "source": [
        "[SHARPENING - 3.38 E](https://imgur.com/cZ6CEZY)"
      ],
      "metadata": {
        "id": "Mxxz6jjIPhAm"
      }
    },
    {
      "cell_type": "markdown",
      "source": [
        "UNSHARP MASKING E HIGHBOOST FILTERING"
      ],
      "metadata": {
        "id": "20nkeP0RPhVu"
      }
    },
    {
      "cell_type": "code",
      "source": [
        "import cv2\n",
        "import numpy as np\n",
        "\n",
        "original_image = cv2.imread('t1.jpg')\n",
        "blurred_image = cv2.GaussianBlur(original_image, (0, 0), 3)\n",
        "sharpness_mask = cv2.subtract(original_image, blurred_image)\n",
        "\n",
        "sharpened_image = cv2.add(original_image, sharpness_mask)\n",
        "sharpened_image = np.clip(sharpened_image, 0, 255)\n",
        "sharpened_image = np.uint8(sharpened_image)\n",
        "\n",
        "print(\"Original Image\")\n",
        "cv2.imshow(\"Original Image\", original_image)\n",
        "print(\"\\nSharpened Image\")\n",
        "cv2.imshow(\"Sharpened Image\", sharpened_image)\n",
        "cv2.waitKey(0)\n",
        "cv2.destroyAllWindows()\n"
      ],
      "metadata": {
        "id": "9wRH9dMfQGIM"
      },
      "execution_count": null,
      "outputs": []
    },
    {
      "cell_type": "markdown",
      "source": [
        "[UNSHARP MASKING E HIGHBOOST FILTERING](https://imgur.com/lSHslcC)"
      ],
      "metadata": {
        "id": "_KnUZLRVSHfb"
      }
    },
    {
      "cell_type": "markdown",
      "source": [
        "DETECTORES DE BORDA"
      ],
      "metadata": {
        "id": "HteP-bhJS5Ux"
      }
    },
    {
      "cell_type": "markdown",
      "source": [
        "LAPLACIANO"
      ],
      "metadata": {
        "id": "haMC2QLOS8QY"
      }
    },
    {
      "cell_type": "code",
      "source": [
        "import cv2\n",
        "import numpy as np\n",
        "\n",
        "img = cv2.imread('t1.jpg', cv2.IMREAD_GRAYSCALE)\n",
        "laplace = cv2.Laplacian(img, cv2.CV_64F)\n",
        "laplace = cv2.convertScaleAbs(laplace)\n",
        "\n",
        "cv2.imshow(\"Imagem original\",img)\n",
        "cv2.imshow('Detector de borda',laplace)\n",
        "cv2.waitKey(0)\n",
        "cv2.destroyAllWindows()"
      ],
      "metadata": {
        "id": "lm9GrjMaS4__"
      },
      "execution_count": null,
      "outputs": []
    },
    {
      "cell_type": "markdown",
      "source": [
        "[LAPLACIANO](https://imgur.com/AmLssVR)"
      ],
      "metadata": {
        "id": "ggqo3gz7Tgny"
      }
    },
    {
      "cell_type": "markdown",
      "source": [
        "ROBERTS"
      ],
      "metadata": {
        "id": "lfDyojuXTnjY"
      }
    },
    {
      "cell_type": "code",
      "source": [
        "import cv2\n",
        "import numpy as np\n",
        "\n",
        "image = cv2.imread('t1.jpg', cv2.IMREAD_GRAYSCALE)\n",
        "\n",
        "kernel_x = np.array([[1, 0], [0, -1]], dtype=np.float32)\n",
        "kernel_y = np.array([[0, 1], [-1, 0]], dtype=np.float32)\n",
        "\n",
        "edge_x = cv2.filter2D(image, -1, kernel_x)\n",
        "edge_y = cv2.filter2D(image, -1, kernel_y)\n",
        "\n",
        "edge_roberts = cv2.addWeighted(edge_x, 0.5, edge_y, 0.5, 0)\n",
        "\n",
        "cv2.imshow('Original', image)\n",
        "cv2.imshow(\"Roberts\", edge_roberts)\n",
        "\n",
        "cv2.waitKey(0)\n",
        "cv2.destroyAllWindows()\n"
      ],
      "metadata": {
        "id": "hJ36sauBTfub"
      },
      "execution_count": null,
      "outputs": []
    },
    {
      "cell_type": "markdown",
      "source": [
        "[ROBERTS](https://imgur.com/u9IAUin)"
      ],
      "metadata": {
        "id": "1s7sieSHTqpy"
      }
    },
    {
      "cell_type": "markdown",
      "source": [
        "SOBEL"
      ],
      "metadata": {
        "id": "fdpvigeDUcjK"
      }
    },
    {
      "cell_type": "code",
      "source": [
        "import cv2\n",
        "import numpy as np\n",
        "\n",
        "image = cv2.imread('t1.jpg', cv2.IMREAD_GRAYSCALE)\n",
        "\n",
        "edge_sobel_x = cv2.Sobel(image, cv2.CV_64F, 1, 0, ksize=3)\n",
        "edge_sobel_y = cv2.Sobel(image, cv2.CV_64F, 0, 1, ksize=3)\n",
        "\n",
        "edge_magnitude = cv2.magnitude(edge_sobel_x, edge_sobel_y)\n",
        "edge_magnitude = cv2.convertScaleAbs(edge_magnitude)\n",
        "\n",
        "cv2.imshow('Original', image)\n",
        "cv2.imshow(\"Sobel\", edge_magnitude)\n",
        "cv2.waitKey(0)\n",
        "cv2.destroyAllWindows()\n"
      ],
      "metadata": {
        "id": "mvGzr6shSG-T"
      },
      "execution_count": null,
      "outputs": []
    },
    {
      "cell_type": "markdown",
      "source": [
        "[SOBEL](https://imgur.com/ifGmxpZ)"
      ],
      "metadata": {
        "id": "Q2yLm9BfUdj6"
      }
    },
    {
      "cell_type": "markdown",
      "source": [
        "CANNY"
      ],
      "metadata": {
        "id": "9hkjG6UjVnem"
      }
    },
    {
      "cell_type": "code",
      "source": [
        "import cv2\n",
        "import numpy as np\n",
        "\n",
        "image = cv2.imread('t1.jpg', cv2.IMREAD_GRAYSCALE)\n",
        "\n",
        "canny = cv2.Canny(image, 100, 200)\n",
        "\n",
        "cv2.imshow(\"Original\", image)\n",
        "cv2.imshow(\"Canny\", canny)\n",
        "cv2.waitKey(0)\n",
        "cv2.destroyAllWindows()"
      ],
      "metadata": {
        "id": "YpnEQX6DVwiS"
      },
      "execution_count": null,
      "outputs": []
    },
    {
      "cell_type": "markdown",
      "source": [
        "[CANNY](https://imgur.com/OWd6kcE)"
      ],
      "metadata": {
        "id": "N4Q8XWFNVohL"
      }
    },
    {
      "cell_type": "markdown",
      "source": [
        "\n",
        "    Relate as observações visíveis nas imagens de saída com os filtros usados, descrevendo o comportamento visual em relação as bordas, ruídos e esmaecimento da imagem com os diferentes kernels e para os diferentes algoritmos\n",
        "    Você observa uma discrepante melhoria na detecção de bordas pelo Canny em comparação aos outros 3 que justifique a complexidade adicional?\n",
        "    Aplique o filtro Sobel pós operação com um filtro de suavização (a sua escolha) e compare com a saída do Canny. Descreva suas observações técnicas sobre o comportamento.\n"
      ],
      "metadata": {
        "id": "XakEk4ziFYGp"
      }
    }
  ]
}