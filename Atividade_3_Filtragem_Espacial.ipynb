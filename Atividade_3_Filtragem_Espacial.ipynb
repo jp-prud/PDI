{
  "nbformat": 4,
  "nbformat_minor": 0,
  "metadata": {
    "colab": {
      "provenance": [],
      "authorship_tag": "ABX9TyNY8fIgGZAVnwmCja7wtFYz",
      "include_colab_link": true
    },
    "kernelspec": {
      "name": "python3",
      "display_name": "Python 3"
    },
    "language_info": {
      "name": "python"
    }
  },
  "cells": [
    {
      "cell_type": "markdown",
      "metadata": {
        "id": "view-in-github",
        "colab_type": "text"
      },
      "source": [
        "<a href=\"https://colab.research.google.com/github/jp-prud/PDI/blob/main/Atividade_3_Filtragem_Espacial.ipynb\" target=\"_parent\"><img src=\"https://colab.research.google.com/assets/colab-badge.svg\" alt=\"Open In Colab\"/></a>"
      ]
    },
    {
      "cell_type": "code",
      "execution_count": null,
      "metadata": {
        "id": "FEQj24dG5H4Y"
      },
      "outputs": [],
      "source": [
        "import cv2\n",
        "import numpy as np\n",
        "from skimage.util import random_noise\n",
        "import matplotlib.pyplot as plt\n",
        "\n",
        "image = cv2.imread('t1.jpg')\n",
        "\n",
        "def filtro_media_manual(image, tamanho_mascara):\n",
        "    altura, largura, _ = image.shape\n",
        "    mascara = np.ones((tamanho_mascara, tamanho_mascara)) / (tamanho_mascara * tamanho_mascara)\n",
        "    output = np.zeros_like(image)\n",
        "\n",
        "    for y in range(altura):\n",
        "        for x in range(largura):\n",
        "            for c in range(3):\n",
        "                soma = 0\n",
        "                for ky in range(tamanho_mascara):\n",
        "                    for kx in range(tamanho_mascara):\n",
        "                        py = y - tamanho_mascara // 2 + ky\n",
        "                        px = x - tamanho_mascara // 2 + kx\n",
        "                        if py >= 0 and px >= 0 and py < altura and px < largura:\n",
        "                            soma += image[py, px, c] * mascara[ky, kx]\n",
        "                output[y, x, c] = int(soma)\n",
        "\n",
        "    return output\n",
        "\n",
        "img_ruido = random_noise(image, mode='s&p', amount=0.05)\n",
        "img_ruido = (255 * img_ruido).astype(np.uint8)\n",
        "\n",
        "img_3x3_suavizada = filtro_media_manual(img_ruido, 3)\n",
        "\n",
        "img_5x5_suavizada = filtro_media_manual(img_ruido, 5)\n",
        "\n",
        "img_7x7_suavizada = filtro_media_manual(img_ruido, 7)\n",
        "\n",
        "cv2.imshow('Imagem Ruidosa', img_ruido)\n",
        "cv2.imshow('Suavização Média 3x3', img_3x3_suavizada)\n",
        "cv2.imshow('Suavização Média 5x5', img_5x5_suavizada)\n",
        "cv2.imshow('Suavização Média 7x7', img_7x7_suavizada)\n",
        "cv2.waitKey(0)\n",
        "cv2.destroyAllWindows()"
      ]
    }
  ]
}