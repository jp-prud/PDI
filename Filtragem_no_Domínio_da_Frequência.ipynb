{
  "nbformat": 4,
  "nbformat_minor": 0,
  "metadata": {
    "colab": {
      "provenance": [],
      "authorship_tag": "ABX9TyMDowgE9ZgPAMtOvdzN8kIF",
      "include_colab_link": true
    },
    "kernelspec": {
      "name": "python3",
      "display_name": "Python 3"
    },
    "language_info": {
      "name": "python"
    }
  },
  "cells": [
    {
      "cell_type": "markdown",
      "metadata": {
        "id": "view-in-github",
        "colab_type": "text"
      },
      "source": [
        "<a href=\"https://colab.research.google.com/github/jp-prud/PDI/blob/main/Filtragem_no_Dom%C3%ADnio_da_Frequ%C3%AAncia.ipynb\" target=\"_parent\"><img src=\"https://colab.research.google.com/assets/colab-badge.svg\" alt=\"Open In Colab\"/></a>"
      ]
    },
    {
      "cell_type": "markdown",
      "source": [
        "\n",
        "# Usando a DFT e FFT da OpenCV"
      ],
      "metadata": {
        "id": "-BOFn7HhiKQS"
      }
    },
    {
      "cell_type": "markdown",
      "source": [
        "Mostrando a magnitude da TF"
      ],
      "metadata": {
        "id": "ExMJmhRXizMx"
      }
    },
    {
      "cell_type": "code",
      "source": [
        "import cv2\n",
        "import numpy as np\n",
        "import matplotlib.pyplot as plt\n",
        "\n",
        "img = cv2.imread('Fig0424(a)(rectangle).tif',0)\n",
        "f = np.fft.fft2(img)\n",
        "fshift = np.fft.fftshift(f)\n",
        "magnitude_spectrum = (20*np.log(np.abs(fshift) + 0.00001)/255)\n",
        "magnitude_spectrum = np.array(magnitude_spectrum, dtype=np.float32)\n",
        "\n",
        "plt.subplot(121),plt.imshow(img, cmap = 'gray')\n",
        "plt.title('Input Image'), plt.xticks([]), plt.yticks([])\n",
        "plt.subplot(122),plt.imshow(magnitude_spectrum, cmap = 'gray')\n",
        "plt.title('Magnitude Spectrum'), plt.xticks([]), plt.yticks([])\n",
        "plt.show()\n",
        "\n",
        "#mostrando a imagem de entrada\n",
        "cv2.imshow('in', img)\n",
        "cv2.waitKey(0)\n",
        "cv2.destroyAllWindows()\n",
        "\n",
        "#mostrando a magnitude da TF\n",
        "cv2.imshow('magnitude_spectrum', magnitude_spectrum)\n",
        "cv2.waitKey(0)\n",
        "cv2.destroyAllWindows()"
      ],
      "metadata": {
        "id": "kdqR70kdiize"
      },
      "execution_count": null,
      "outputs": []
    },
    {
      "cell_type": "markdown",
      "source": [
        "Criando espectro de magnitude"
      ],
      "metadata": {
        "id": "J-oy9Wu9qggv"
      }
    },
    {
      "cell_type": "code",
      "execution_count": null,
      "metadata": {
        "id": "ywn2k46RiEQh"
      },
      "outputs": [],
      "source": [
        "img = cv2.imread('t1.jpg',0)\n",
        "image_f32 = img.astype(np.float32)# convert from uint8 into float32\n",
        "dft = cv2.dft(image_f32, flags = cv2.DFT_COMPLEX_OUTPUT)\n",
        "fft_shift = np.fft.fftshift(dft) #aplica FFT e posteriormente a desloca - dica é usar a função presente na numpy\n",
        "magnitude_spectrum = (20*np.log(np.abs(fft_shift) + 0.00001)/255) # cria o espectro de magnitude\n",
        "\n",
        "cv2.imshow('img', img)\n",
        "cv2.waitKey(0)\n",
        "cv2.destroyAllWindows()"
      ]
    },
    {
      "cell_type": "markdown",
      "source": [
        "Filtro PB ideal"
      ],
      "metadata": {
        "id": "eNPVGZKIrC9w"
      }
    },
    {
      "cell_type": "code",
      "source": [
        "img = cv2.imread('t1.jpg',0)\n",
        "f = np.fft.fft2(img)\n",
        "fshift = np.fft.fftshift(f)\n",
        "\n",
        "image_f32 = img.astype(np.float32)# convert from uint8 into float32\n",
        "dft = cv2.dft(image_f32, flags = cv2.DFT_COMPLEX_OUTPUT)\n",
        "magnitude_spectrum = (20*np.log(np.abs(fshift) + 0.00001)/255) # cria o espectro de magnitude\n",
        "\n",
        "rows, cols = img.shape\n",
        "crow, ccol = rows // 2, cols // 2\n",
        "mask = np.zeros((rows, cols, 2), np.uint8)  # H(u,v)\n",
        "\n",
        "# Defina o raio de corte (valor inteiro)\n",
        "raio = 20\n",
        "\n",
        "# Crie um círculo com valor 1 dentro do raio de corte\n",
        "y, x = np.ogrid[-crow:rows - crow, -ccol:cols - ccol]\n",
        "mascara_circular = x**2 + y**2 <= raio**2\n",
        "mask[mascara_circular] = 1\n",
        "\n",
        "# Inverta a máscara para manter as baixas frequências e atenuar as altas frequências\n",
        "mask_invertida = 1 - mask\n",
        "\n",
        "# Aplique a máscara ao espectro de frequência\n",
        "dft_filtered = dft * mask_invertida\n",
        "\n",
        "# Para visualização, você pode calcular o espectro de magnitude do resultado\n",
        "magnitude_spectrum_filtered = np.log(1 + np.abs(np.fft.fftshift(dft_filtered)))\n",
        "\n",
        "# Aplicar a máscara ao espectro de frequência\n",
        "fshift = dft * mask_invertida\n",
        "\n",
        "# Aplicar a DFT inversa (IDFT)\n",
        "f_ishift = np.fft.ifftshift(fshift)\n",
        "img_back = cv2.idft(f_ishift)\n",
        "img_back = cv2.magnitude(img_back[:, :, 0], img_back[:, :, 1])\n",
        "\n",
        "img_back = np.array(img_back, dtype=np.float32)\n",
        "\n",
        "img_back = cv2.flip(img_back, 0)\n",
        "\n",
        "print(np.argmax(img_back))\n",
        "plt.subplot(121),plt.imshow(magnitude_spectrum, cmap = 'gray')\n",
        "plt.title('Magnitude Spectrum'), plt.xticks([]), plt.yticks([])\n",
        "plt.subplot(122),plt.imshow(img_back, cmap = 'gray')\n",
        "plt.title('Input Image'), plt.xticks([]), plt.yticks([])\n",
        "plt.show()\n",
        "\n",
        "filtered_img = np.abs(img_back)  # Aplicar o absoluto\n",
        "filtered_img -= filtered_img.min()   # Subtrair o valor do menor pixel\n",
        "filtered_img = (filtered_img * 255 / filtered_img.max()).astype(np.uint8)  # Escalar e fazer um cast para 8 bits\n",
        "\n",
        "# caso use o colab, utilize o patch corretamente\n",
        "cv2.imshow('img_back', filtered_img)\n",
        "cv2.waitKey(0)\n",
        "cv2.destroyAllWindows()"
      ],
      "metadata": {
        "id": "-AFvfOoBrDnc"
      },
      "execution_count": null,
      "outputs": []
    },
    {
      "cell_type": "markdown",
      "source": [
        "Criação da filtro PA -- Código com problema"
      ],
      "metadata": {
        "id": "394mHLoi4n4f"
      }
    },
    {
      "cell_type": "code",
      "source": [
        "img = cv2.imread('Fig0424(a)(rectangle).tif',0)\n",
        "\n",
        "image_f32 = img.astype(np.float32)# convert from uint8 into float32\n",
        "dft = cv2.dft(image_f32, flags = cv2.DFT_COMPLEX_OUTPUT)\n",
        "rows, cols = img.shape\n",
        "crow, ccol = rows // 2, cols // 2\n",
        "\n",
        "# Crie uma máscara inicializada com zeros\n",
        "mask = np.zeros((rows, cols, 2), np.uint8)\n",
        "\n",
        "# Defina o raio de corte (valor inteiro)\n",
        "raio = 20\n",
        "\n",
        "# Crie um círculo com valor 1 fora do raio de corte\n",
        "y, x = np.ogrid[-crow:rows - crow, -ccol:cols - ccol]\n",
        "mascara_circular = x**2 + y**2 > raio**2\n",
        "mask[mascara_circular] = 1\n",
        "\n",
        "# Aplicar a máscara ao espectro de frequência\n",
        "fshift = dft * mask\n",
        "\n",
        "# Aplicar a DFT inversa (IDFT)\n",
        "f_ishift = np.fft.ifftshift(fshift)\n",
        "img_back = cv2.idft(f_ishift)\n",
        "img_back = cv2.magnitude(img_back[:, :, 0], img_back[:, :, 1])\n",
        "\n",
        "img_back = np.array(img_back, dtype=np.float32)\n",
        "\n",
        "img_back = cv2.flip(img_back, 0)\n",
        "\n",
        "magnitude_spectrum = (20*np.log(np.abs(fshift) + 0.00001)/255)\n",
        "magnitude_spectrum = np.array(magnitude_spectrum, dtype=np.float32)\n",
        "\n",
        "\n",
        "plt.subplot(121),plt.imshow(img_back, cmap = 'gray')\n",
        "plt.title('Input Image'), plt.xticks([]), plt.yticks([])\n",
        "plt.subplot(122),plt.imshow(magnitude_spectrum, cmap = 'gray')\n",
        "plt.title('Magnitude Spectrum'), plt.xticks([]), plt.yticks([])\n",
        "plt.show()\n",
        "\n",
        "# Normalizar a imagem para o intervalo 0-255\n",
        "filtered_img = np.abs(img_back)  # Aplicar o absoluto\n",
        "filtered_img -= filtered_img.min()   # Subtrair o valor do menor pixel\n",
        "filtered_img = (filtered_img * 255 / filtered_img.max()).astype(np.uint8)  # Escalar e fazer um cast para 8 bits\n",
        "\n",
        "\n",
        "cv2.imshow('img', img)\n",
        "cv2.waitKey(0)\n",
        "cv2.destroyAllWindows()\n",
        "\n",
        "cv2.imshow('filtered_img', filtered_img)\n",
        "cv2.waitKey(0)\n",
        "cv2.destroyAllWindows()"
      ],
      "metadata": {
        "id": "WrOwb7uA4nnp"
      },
      "execution_count": null,
      "outputs": []
    }
  ]
}