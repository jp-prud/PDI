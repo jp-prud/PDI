{
  "nbformat": 4,
  "nbformat_minor": 0,
  "metadata": {
    "colab": {
      "provenance": [],
      "authorship_tag": "ABX9TyP6kXZzODvPn+qChfZVZ9Z0",
      "include_colab_link": true
    },
    "kernelspec": {
      "name": "python3",
      "display_name": "Python 3"
    },
    "language_info": {
      "name": "python"
    }
  },
  "cells": [
    {
      "cell_type": "markdown",
      "metadata": {
        "id": "view-in-github",
        "colab_type": "text"
      },
      "source": [
        "<a href=\"https://colab.research.google.com/github/jp-prud/PDI/blob/main/Filtragem_no_Dom%C3%ADnio_da_Frequ%C3%AAncia.ipynb\" target=\"_parent\"><img src=\"https://colab.research.google.com/assets/colab-badge.svg\" alt=\"Open In Colab\"/></a>"
      ]
    },
    {
      "cell_type": "markdown",
      "source": [
        "\n",
        "# Usando a DFT e FFT da OpenCV"
      ],
      "metadata": {
        "id": "-BOFn7HhiKQS"
      }
    },
    {
      "cell_type": "markdown",
      "source": [
        "Mostrando a magnitude da TF"
      ],
      "metadata": {
        "id": "ExMJmhRXizMx"
      }
    },
    {
      "cell_type": "code",
      "source": [
        "import cv2\n",
        "import numpy as np\n",
        "import matplotlib.pyplot as plt\n",
        "\n",
        "img = cv2.imread('Fig0424(a)(rectangle).tif',0)\n",
        "f = np.fft.fft2(img)\n",
        "fshift = np.fft.fftshift(f)\n",
        "magnitude_spectrum = (20*np.log(np.abs(fshift) + 0.00001)/255)\n",
        "magnitude_spectrum = np.array(magnitude_spectrum, dtype=np.float32)\n",
        "\n",
        "plt.subplot(121),plt.imshow(img, cmap = 'gray')\n",
        "plt.title('Input Image'), plt.xticks([]), plt.yticks([])\n",
        "plt.subplot(122),plt.imshow(magnitude_spectrum, cmap = 'gray')\n",
        "plt.title('Magnitude Spectrum'), plt.xticks([]), plt.yticks([])\n",
        "plt.show()\n",
        "\n",
        "#mostrando a imagem de entrada\n",
        "cv2.imshow('in', img)\n",
        "cv2.waitKey(0)\n",
        "cv2.destroyAllWindows()\n",
        "\n",
        "#mostrando a magnitude da TF\n",
        "cv2.imshow('magnitude_spectrum', magnitude_spectrum)\n",
        "cv2.waitKey(0)\n",
        "cv2.destroyAllWindows()"
      ],
      "metadata": {
        "id": "kdqR70kdiize"
      },
      "execution_count": null,
      "outputs": []
    },
    {
      "cell_type": "markdown",
      "source": [
        "Criando espectro de magnitude"
      ],
      "metadata": {
        "id": "J-oy9Wu9qggv"
      }
    },
    {
      "cell_type": "code",
      "execution_count": null,
      "metadata": {
        "id": "ywn2k46RiEQh"
      },
      "outputs": [],
      "source": [
        "img = cv2.imread('t1.jpg',0)\n",
        "image_f32 = img.astype(np.float32)# convert from uint8 into float32\n",
        "dft = cv2.dft(image_f32, flags = cv2.DFT_COMPLEX_OUTPUT)\n",
        "fft_shift = np.fft.fftshift(dft) #aplica FFT e posteriormente a desloca - dica é usar a função presente na numpy\n",
        "magnitude_spectrum = (20*np.log(np.abs(fft_shift) + 0.00001)/255) # cria o espectro de magnitude\n",
        "\n",
        "cv2.imshow('img', img)\n",
        "cv2.waitKey(0)\n",
        "cv2.destroyAllWindows()"
      ]
    },
    {
      "cell_type": "markdown",
      "source": [
        "Filtro PB ideal"
      ],
      "metadata": {
        "id": "eNPVGZKIrC9w"
      }
    },
    {
      "cell_type": "code",
      "source": [
        "img = cv2.imread('t1.jpg',0)\n",
        "f = np.fft.fft2(img)\n",
        "fshift = np.fft.fftshift(f)\n",
        "\n",
        "image_f32 = img.astype(np.float32)# convert from uint8 into float32\n",
        "dft = cv2.dft(image_f32, flags = cv2.DFT_COMPLEX_OUTPUT)\n",
        "magnitude_spectrum = (20*np.log(np.abs(fshift) + 0.00001)/255) # cria o espectro de magnitude\n",
        "\n",
        "rows, cols = img.shape\n",
        "crow, ccol = rows // 2, cols // 2\n",
        "mask = np.zeros((rows, cols, 2), np.uint8)  # H(u,v)\n",
        "\n",
        "# Defina o raio de corte (valor inteiro)\n",
        "raio = 20\n",
        "\n",
        "# Crie um círculo com valor 1 dentro do raio de corte\n",
        "y, x = np.ogrid[-crow:rows - crow, -ccol:cols - ccol]\n",
        "mascara_circular = x**2 + y**2 <= raio**2\n",
        "mask[mascara_circular] = 1\n",
        "\n",
        "# Inverta a máscara para manter as baixas frequências e atenuar as altas frequências\n",
        "mask_invertida = 1 - mask\n",
        "\n",
        "# Aplique a máscara ao espectro de frequência\n",
        "dft_filtered = dft * mask_invertida\n",
        "\n",
        "# Para visualização, você pode calcular o espectro de magnitude do resultado\n",
        "magnitude_spectrum_filtered = np.log(1 + np.abs(np.fft.fftshift(dft_filtered)))\n",
        "\n",
        "# Aplicar a máscara ao espectro de frequência\n",
        "fshift = dft * mask_invertida\n",
        "\n",
        "# Aplicar a DFT inversa (IDFT)\n",
        "f_ishift = np.fft.ifftshift(fshift)\n",
        "img_back = cv2.idft(f_ishift)\n",
        "img_back = cv2.magnitude(img_back[:, :, 0], img_back[:, :, 1])\n",
        "\n",
        "img_back = np.array(img_back, dtype=np.float32)\n",
        "\n",
        "img_back = cv2.flip(img_back, 0)\n",
        "\n",
        "print(np.argmax(img_back))\n",
        "plt.subplot(121),plt.imshow(magnitude_spectrum, cmap = 'gray')\n",
        "plt.title('Magnitude Spectrum'), plt.xticks([]), plt.yticks([])\n",
        "plt.subplot(122),plt.imshow(img_back, cmap = 'gray')\n",
        "plt.title('Input Image'), plt.xticks([]), plt.yticks([])\n",
        "plt.show()\n",
        "\n",
        "filtered_img = np.abs(img_back)  # Aplicar o absoluto\n",
        "filtered_img -= filtered_img.min()   # Subtrair o valor do menor pixel\n",
        "filtered_img = (filtered_img * 255 / filtered_img.max()).astype(np.uint8)  # Escalar e fazer um cast para 8 bits\n",
        "\n",
        "# caso use o colab, utilize o patch corretamente\n",
        "cv2.imshow('img_back', filtered_img)\n",
        "cv2.waitKey(0)\n",
        "cv2.destroyAllWindows()"
      ],
      "metadata": {
        "id": "-AFvfOoBrDnc"
      },
      "execution_count": null,
      "outputs": []
    },
    {
      "cell_type": "markdown",
      "source": [
        "Criação da filtro PA -- Código com problema"
      ],
      "metadata": {
        "id": "394mHLoi4n4f"
      }
    },
    {
      "cell_type": "code",
      "source": [
        "img = cv2.imread('Fig0424(a)(rectangle).tif',0)\n",
        "\n",
        "image_f32 = img.astype(np.float32)# convert from uint8 into float32\n",
        "dft = cv2.dft(image_f32, flags = cv2.DFT_COMPLEX_OUTPUT)\n",
        "rows, cols = img.shape\n",
        "crow, ccol = rows // 2, cols // 2\n",
        "\n",
        "# Crie uma máscara inicializada com zeros\n",
        "mask = np.zeros((rows, cols, 2), np.uint8)\n",
        "\n",
        "# Defina o raio de corte (valor inteiro)\n",
        "raio = 20\n",
        "\n",
        "# Crie um círculo com valor 1 fora do raio de corte\n",
        "y, x = np.ogrid[-crow:rows - crow, -ccol:cols - ccol]\n",
        "mascara_circular = x**2 + y**2 > raio**2\n",
        "mask[mascara_circular] = 1\n",
        "\n",
        "# Aplicar a máscara ao espectro de frequência\n",
        "fshift = dft * mask\n",
        "\n",
        "# Aplicar a DFT inversa (IDFT)\n",
        "f_ishift = np.fft.ifftshift(fshift)\n",
        "img_back = cv2.idft(f_ishift)\n",
        "img_back = cv2.magnitude(img_back[:, :, 0], img_back[:, :, 1])\n",
        "\n",
        "img_back = np.array(img_back, dtype=np.float32)\n",
        "\n",
        "img_back = cv2.flip(img_back, 0)\n",
        "\n",
        "magnitude_spectrum = (20*np.log(np.abs(fshift) + 0.00001)/255)\n",
        "magnitude_spectrum = np.array(magnitude_spectrum, dtype=np.float32)\n",
        "\n",
        "\n",
        "plt.subplot(121),plt.imshow(img_back, cmap = 'gray')\n",
        "plt.title('Input Image'), plt.xticks([]), plt.yticks([])\n",
        "plt.subplot(122),plt.imshow(magnitude_spectrum, cmap = 'gray')\n",
        "plt.title('Magnitude Spectrum'), plt.xticks([]), plt.yticks([])\n",
        "plt.show()\n",
        "\n",
        "# Normalizar a imagem para o intervalo 0-255\n",
        "filtered_img = np.abs(img_back)  # Aplicar o absoluto\n",
        "filtered_img -= filtered_img.min()   # Subtrair o valor do menor pixel\n",
        "filtered_img = (filtered_img * 255 / filtered_img.max()).astype(np.uint8)  # Escalar e fazer um cast para 8 bits\n",
        "\n",
        "\n",
        "cv2.imshow('img', img)\n",
        "cv2.waitKey(0)\n",
        "cv2.destroyAllWindows()\n",
        "\n",
        "cv2.imshow('filtered_img', filtered_img)\n",
        "cv2.waitKey(0)\n",
        "cv2.destroyAllWindows()"
      ],
      "metadata": {
        "id": "WrOwb7uA4nnp"
      },
      "execution_count": null,
      "outputs": []
    },
    {
      "cell_type": "markdown",
      "source": [
        "Função - createPB"
      ],
      "metadata": {
        "id": "tn_Rg7RyBZbk"
      }
    },
    {
      "cell_type": "code",
      "source": [
        "def createPB(shape, center, radius, lpType=2, n=2):\n",
        "    rows, cols = shape[:2]\n",
        "    r, c = np.mgrid[0:rows, 0:cols]\n",
        "    c -= center[0]\n",
        "    r -= center[1]\n",
        "    d = np.power(c, 2) + np.power(r, 2)\n",
        "    lpFilter_matrix = np.zeros(shape, np.float32)\n",
        "\n",
        "    if lpType == 0:  # Ideal low-pass filter\n",
        "        lpFilter = np.copy(d)\n",
        "        lpFilter[d <= radius**2] = 1\n",
        "        lpFilter[d > radius**2] = 0\n",
        "    elif lpType == 1:  # Butterworth low-pass filter\n",
        "        lpFilter = 1 / (1 + np.power(np.sqrt(d) / radius, 2 * n))\n",
        "    elif lpType == 2:  # Gaussian low-pass filter\n",
        "        lpFilter = np.exp(-d / (2 * radius**2))\n",
        "\n",
        "    lpFilter_matrix[:, :, 0] = lpFilter\n",
        "    lpFilter_matrix[:, :, 1] = lpFilter\n",
        "\n",
        "    return lpFilter_matrix\n",
        "\n",
        "# Exemplo de uso\n",
        "shape = (256, 256, 2)\n",
        "center = (128, 128)\n",
        "radius = 30\n",
        "lpType = 2\n",
        "n = 2\n",
        "\n",
        "lpFilter = createPB(shape, center, radius, lpType, n)"
      ],
      "metadata": {
        "id": "nUUtOVMfBcgD"
      },
      "execution_count": null,
      "outputs": []
    },
    {
      "cell_type": "markdown",
      "source": [
        "Função - createPA"
      ],
      "metadata": {
        "id": "aXdCMxSHBb1R"
      }
    },
    {
      "cell_type": "code",
      "source": [
        "def createPA(shape, center, radius, lpType=2, n=2):\n",
        "    rows, cols = shape[:2]\n",
        "    r, c = np.mgrid[0:rows, 0:cols]\n",
        "    c -= center[0]\n",
        "    r -= center[1]\n",
        "    d = np.power(c, 2) + np.power(r, 2)\n",
        "    lpFilter_matrix = np.zeros(shape, np.float32)\n",
        "\n",
        "    if lpType == 0:  # Ideal high-pass filter\n",
        "        lpFilter = np.copy(d)\n",
        "        lpFilter[d <= radius**2] = 0\n",
        "        lpFilter[d > radius**2] = 1\n",
        "    elif lpType == 1:  # Butterworth high-pass filter\n",
        "        lpFilter = 1 / (1 + np.power(radius / np.sqrt(d), 2 * n))\n",
        "    elif lpType == 2:  # Gaussian high-pass filter\n",
        "        lpFilter = 1 - np.exp(-d / (2 * radius**2))\n",
        "\n",
        "    lpFilter_matrix[:, :, 0] = lpFilter\n",
        "    lpFilter_matrix[:, :, 1] = lpFilter\n",
        "\n",
        "    return lpFilter_matrix\n",
        "\n",
        "# Exemplo de uso\n",
        "shape = (256, 256, 2)\n",
        "center = (128, 128)\n",
        "radius = 30\n",
        "lpType = 2\n",
        "n = 2\n",
        "\n",
        "lpFilter = createPA(shape, center, radius, lpType, n)"
      ],
      "metadata": {
        "id": "UOOytZONBc6M"
      },
      "execution_count": null,
      "outputs": []
    },
    {
      "cell_type": "markdown",
      "source": [
        "Função - createPF"
      ],
      "metadata": {
        "id": "qM-onrA9B2k3"
      }
    },
    {
      "cell_type": "code",
      "source": [
        "def createPF(shape, center, bandCenter, bandWidth, lpType=2, n=2):\n",
        "    rows, cols = shape[:2]\n",
        "    r, c = np.mgrid[0:rows, 0:cols]\n",
        "    c -= center[0]\n",
        "    r -= center[1]\n",
        "    d = np.power(c, 2) + np.power(r, 2)\n",
        "    lpFilter_matrix = np.zeros(shape, np.float32)\n",
        "\n",
        "    if lpType == 0:  # Ideal bandpass filter\n",
        "        lpFilter = np.copy(d)\n",
        "        lower_bound = np.power(bandCenter - bandWidth / 2, 2)\n",
        "        upper_bound = np.power(bandCenter + bandWidth / 2, 2)\n",
        "        lpFilter[(d >= lower_bound) & (d <= upper_bound)] = 1\n",
        "        lpFilter[d < lower_bound] = 0\n",
        "        lpFilter[d > upper_bound] = 0\n",
        "    elif lpType == 1:  # Butterworth bandpass filter\n",
        "        lpFilter = 1 / (1 + np.power(bandCenter / np.sqrt(d), 2 * n))\n",
        "    elif lpType == 2:  # Gaussian bandpass filter\n",
        "        lpFilter = np.exp(-d / (2 * np.power(bandWidth / 2, 2)))\n",
        "\n",
        "    lpFilter_matrix[:, :, 0] = lpFilter\n",
        "    lpFilter_matrix[:, :, 1] = lpFilter\n",
        "\n",
        "    return lpFilter_matrix\n",
        "\n",
        "# Exemplo de uso\n",
        "shape = (256, 256, 2)\n",
        "center = (128, 128)\n",
        "bandCenter = 0.2\n",
        "bandWidth = 0.1\n",
        "lpType = 2\n",
        "n = 2\n",
        "\n",
        "lpFilter = createPF(shape, center, bandCenter, bandWidth, lpType, n)"
      ],
      "metadata": {
        "id": "plVooaLMB03-"
      },
      "execution_count": null,
      "outputs": []
    },
    {
      "cell_type": "markdown",
      "source": [
        "Função - createRF"
      ],
      "metadata": {
        "id": "MFO9WGyAB-sF"
      }
    },
    {
      "cell_type": "code",
      "source": [
        "import numpy as np\n",
        "\n",
        "def createRF(shape, center, bandCenter, bandWidth, lpType=2, n=2):\n",
        "    rows, cols = shape[:2]\n",
        "    r, c = np.mgrid[0:rows, 0:cols]\n",
        "    c -= center[0]\n",
        "    r -= center[1]\n",
        "    d = np.power(c, 2) + np.power(r, 2)\n",
        "    lpFilter_matrix = np.zeros(shape, np.float32)\n",
        "\n",
        "    if lpType == 0:  # Ideal band-stop filter\n",
        "        lpFilter = np.copy(d)\n",
        "        lower_bound = np.power(bandCenter - bandWidth / 2, 2)\n",
        "        upper_bound = np.power(bandCenter + bandWidth / 2, 2)\n",
        "        lpFilter[(d >= lower_bound) & (d <= upper_bound)] = 0\n",
        "        lpFilter[d < lower_bound] = 1\n",
        "        lpFilter[d > upper_bound] = 1\n",
        "    elif lpType == 1:  # Butterworth band-stop filter\n",
        "        lpFilter = 1 / (1 + np.power(bandCenter / np.sqrt(d), 2 * n))\n",
        "    elif lpType == 2:  # Gaussian band-stop filter\n",
        "        lpFilter = 1 - np.exp(-d / (2 * np.power(bandWidth / 2, 2)))\n",
        "\n",
        "    lpFilter_matrix[:, :, 0] = lpFilter\n",
        "    lpFilter_matrix[:, :, 1] = lpFilter\n",
        "\n",
        "    return lpFilter_matrix\n",
        "\n",
        "# Exemplo de uso\n",
        "shape = (256, 256, 2)\n",
        "center = (128, 128)\n",
        "bandCenter = 0.2\n",
        "bandWidth = 0.1\n",
        "lpType = 2\n",
        "n = 2\n",
        "\n",
        "lpFilter = createRF(shape, center, bandCenter, bandWidth, lpType, n)\n"
      ],
      "metadata": {
        "id": "XRN348P0B90E"
      },
      "execution_count": null,
      "outputs": []
    },
    {
      "cell_type": "markdown",
      "source": [
        "Aplicando testes"
      ],
      "metadata": {
        "id": "vbO_zXVUB9RH"
      }
    },
    {
      "cell_type": "code",
      "source": [
        "img = cv2.imread('t1.jpg', 0)\n",
        "\n",
        "image_f32 = np.float32(img)\n",
        "dft = cv2.dft(image_f32, flags=cv2.DFT_COMPLEX_OUTPUT)\n",
        "fft_shift = np.fft.fftshift(dft)\n",
        "magnitude_spectrum = 20 * np.log(cv2.magnitude(fft_shift[:, :, 0], fft_shift[:, :, 1]))\n",
        "cv2.imshow('img', img)\n",
        "cv2.imshow('Magnitude Spectrum', np.uint8(magnitude_spectrum))\n",
        "magnitude_spectrum -= np.min(magnitude_spectrum)\n",
        "magnitude_spectrum = (magnitude_spectrum / np.max(magnitude_spectrum) * 255).astype(np.uint8)\n",
        "\n",
        "cv2.imshow('Normalized Magnitude Spectrum', magnitude_spectrum)\n",
        "\n",
        "cv2.waitKey(0)\n",
        "cv2.destroyAllWindows()"
      ],
      "metadata": {
        "id": "wdpK1m83O-PI"
      },
      "execution_count": null,
      "outputs": []
    },
    {
      "cell_type": "code",
      "source": [
        "nrows, ncols, _ = magnitude_spectrum.shape\n",
        "real = magnitude_spectrum[:, :, 0]\n",
        "imaginary = magnitude_spectrum[:, :, 1]\n",
        "amplitude = np.sqrt(np.power(real, 2) + np.power(imaginary, 2))\n",
        "minValue, maxValue, minLoc, maxLoc = cv2.minMaxLoc(amplitude)"
      ],
      "metadata": {
        "id": "NHa7rUYDO-lg"
      },
      "execution_count": null,
      "outputs": []
    },
    {
      "cell_type": "code",
      "source": [],
      "metadata": {
        "id": "Xku8MQZlbRon"
      },
      "execution_count": null,
      "outputs": []
    }
  ]
}