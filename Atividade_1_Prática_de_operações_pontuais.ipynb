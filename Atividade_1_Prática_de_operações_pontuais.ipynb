{
  "nbformat": 4,
  "nbformat_minor": 0,
  "metadata": {
    "colab": {
      "provenance": [],
      "authorship_tag": "ABX9TyMlqHS1/VIALbJVpp9byxNT",
      "include_colab_link": true
    },
    "kernelspec": {
      "name": "python3",
      "display_name": "Python 3"
    },
    "language_info": {
      "name": "python"
    }
  },
  "cells": [
    {
      "cell_type": "markdown",
      "metadata": {
        "id": "view-in-github",
        "colab_type": "text"
      },
      "source": [
        "<a href=\"https://colab.research.google.com/github/jp-prud/PDI/blob/main/Atividade_1_Pr%C3%A1tica_de_opera%C3%A7%C3%B5es_pontuais.ipynb\" target=\"_parent\"><img src=\"https://colab.research.google.com/assets/colab-badge.svg\" alt=\"Open In Colab\"/></a>"
      ]
    },
    {
      "cell_type": "markdown",
      "source": [
        "### Prática com Operações Pontuais e OpenCV\n",
        "\n",
        "Conversão de imagem RGB em imagem Grayscale"
      ],
      "metadata": {
        "id": "q_2qAHvxocSI"
      }
    },
    {
      "cell_type": "code",
      "execution_count": null,
      "metadata": {
        "id": "f_S_cq46nv0R"
      },
      "outputs": [],
      "source": [
        "import cv2\n",
        "import numpy as np\n",
        "import matplotlib.pyplot as plt\n",
        "\n",
        "img = cv2.imread('t1.jpg')\n",
        "\n",
        "B, G, R = cv2.split(img)\n",
        "img_grayscale_basic_cv2 = cv2.addWeighted(B, 1/3.0, G, 1/3.0, 0)\n",
        "img_grayscale_basic_cv2 = cv2.addWeighted(img_grayscale_basic_cv2, 1.0, R, 1/3.0, 0)\n",
        "\n",
        "cv2.imshow('Imagem em Tons de Cinza', img_grayscale_basic_cv2)\n",
        "cv2.waitKey(0)\n",
        "cv2.destroyAllWindows()"
      ]
    },
    {
      "cell_type": "markdown",
      "source": [
        "Conversão ponderada"
      ],
      "metadata": {
        "id": "j6uJZHY3paus"
      }
    },
    {
      "cell_type": "code",
      "source": [
        "weight_b = 0.3\n",
        "weight_g = 0.59\n",
        "weight_r = 0.11\n",
        "\n",
        "img_grayscale_pondered_np = (weight_b * img[:, :, 0] +\n",
        "                              weight_g * img[:, :, 1] +\n",
        "                              weight_r * img[:, :, 2])\n",
        "\n",
        "B, G, R = cv2.split(img)\n",
        "img_grayscale_pondered_cv2 = (weight_b * B + weight_g * G + weight_r * R)\n",
        "img_grayscale_pondered_cv2 = cv2.convertScaleAbs(img_grayscale_pondered_cv2)\n",
        "img_grayscale_pondered = np.array(img_grayscale_pondered_cv2, dtype=np.uint8)\n",
        "\n",
        "cv2.imshow('Imagem com Média Ponderada', img_grayscale_pondered)\n",
        "cv2.waitKey(0)\n",
        "cv2.destroyAllWindows()"
      ],
      "metadata": {
        "id": "8brVFPlppewT"
      },
      "execution_count": null,
      "outputs": []
    },
    {
      "cell_type": "markdown",
      "source": [
        "Histograma"
      ],
      "metadata": {
        "id": "1zV3KH1pptHW"
      }
    },
    {
      "cell_type": "code",
      "source": [
        "intensidades = np.linspace(0, 255, 256)\n",
        "histogram, _ = np.histogram(img.ravel(), bins=256, range=(0, 256))\n",
        "plt.bar(intensidades, histogram, width=1.0, color='gray')\n",
        "\n",
        "plt.xlabel('Intensidade de Pixel')\n",
        "plt.ylabel('Frequência')\n",
        "plt.show()"
      ],
      "metadata": {
        "id": "TcyluELdpxlX"
      },
      "execution_count": null,
      "outputs": []
    },
    {
      "cell_type": "markdown",
      "source": [
        "Histograma normalizado"
      ],
      "metadata": {
        "id": "OTU_DY_6qLe_"
      }
    },
    {
      "cell_type": "code",
      "source": [
        "intensidades = np.linspace(0, 255, 256)\n",
        "\n",
        "histogram, _ = np.histogram(img.ravel(), bins=256, range=(0, 256))\n",
        "histogram_normalized = histogram / float(np.sum(histogram))\n",
        "\n",
        "plt.plot(intensidades, histogram_normalized, color='gray')\n",
        "\n",
        "plt.xlabel('Intensidade de Pixel')\n",
        "plt.ylabel('Frequência Normalizada')\n",
        "plt.show()"
      ],
      "metadata": {
        "id": "lpa8MAQRqRi3"
      },
      "execution_count": null,
      "outputs": []
    },
    {
      "cell_type": "markdown",
      "source": [
        "Transformação negativa"
      ],
      "metadata": {
        "id": "R_nggSu1qZ-V"
      }
    },
    {
      "cell_type": "code",
      "source": [
        "img_in = np.uint8(img)\n",
        "img_negative_np = 255 - img_in\n",
        "cv2.imshow('Entrada', img_in)\n",
        "\n",
        "cv2.imshow('Saída', img_negative_np)\n",
        "cv2.waitKey(0)\n",
        "cv2.destroyAllWindows()"
      ],
      "metadata": {
        "id": "6hwag1oDqi6O"
      },
      "execution_count": null,
      "outputs": []
    },
    {
      "cell_type": "markdown",
      "source": [
        "Transformação logaritimica"
      ],
      "metadata": {
        "id": "iMx1vNocqq4G"
      }
    },
    {
      "cell_type": "code",
      "source": [
        "img_in = np.uint8(img)\n",
        "c = 0.1\n",
        "img_out = c * np.log1p(img_in)\n",
        "img_out = np.uint8(img_out)\n",
        "\n",
        "cv2.imshow('Entrada', img_in)\n",
        "\n",
        "cv2.imshow('Saída', img_out)\n",
        "cv2.waitKey(0)\n",
        "cv2.destroyAllWindows()"
      ],
      "metadata": {
        "id": "G8NMKmf0qug5"
      },
      "execution_count": null,
      "outputs": []
    },
    {
      "cell_type": "markdown",
      "source": [
        "Transformação gamma"
      ],
      "metadata": {
        "id": "zQelwE2fqxNT"
      }
    },
    {
      "cell_type": "code",
      "source": [
        "img_in = np.uint8(img)\n",
        "\n",
        "c = 1.0\n",
        "gamma = 0.8\n",
        "\n",
        "img_out = c * (img_in ** gamma)\n",
        "\n",
        "img_out = np.uint8(img_out)\n",
        "\n",
        "cv2.imshow('Entrada', img_in)\n",
        "\n",
        "cv2.imshow('Saída', img_out)\n",
        "cv2.waitKey(0)\n",
        "cv2.destroyAllWindows()"
      ],
      "metadata": {
        "id": "k0jsitQOq07f"
      },
      "execution_count": null,
      "outputs": []
    },
    {
      "cell_type": "markdown",
      "source": [
        "Transformação de alargamento de contraste"
      ],
      "metadata": {
        "id": "sDOMqiptq-aw"
      }
    },
    {
      "cell_type": "code",
      "source": [
        "img_in = np.uint8(img)\n",
        "\n",
        "min_limit = 50\n",
        "max_limit = 200\n",
        "\n",
        "img_out = np.zeros_like(img_in)\n",
        "\n",
        "for i in range(3):\n",
        "    img_out[:, :, i] = np.interp(img_in[:, :, i], (0, min_limit, max_limit, 255), (0, 0, 255, 255))\n",
        "\n",
        "cv2.imshow('Entrada', img_in)\n",
        "\n",
        "cv2.imshow('Saída', img_out)\n",
        "cv2.waitKey(0)\n",
        "cv2.destroyAllWindows()"
      ],
      "metadata": {
        "id": "4GGQbpd0rLPT"
      },
      "execution_count": null,
      "outputs": []
    },
    {
      "cell_type": "markdown",
      "source": [
        "Transformação de contraste e brilho"
      ],
      "metadata": {
        "id": "B57Tq7bmtJ_f"
      }
    },
    {
      "cell_type": "code",
      "source": [
        "a = 1.0\n",
        "b = 50\n",
        "\n",
        "img_out = cv2.convertScaleAbs(img, alpha=a, beta=b)\n",
        "\n",
        "cv2.imshow('Entrada', img)\n",
        "\n",
        "cv2.imshow('Saída', img)\n",
        "cv2.waitKey(0)\n",
        "cv2.destroyAllWindows()"
      ],
      "metadata": {
        "id": "8kU41a79tJug"
      },
      "execution_count": null,
      "outputs": []
    },
    {
      "cell_type": "markdown",
      "source": [
        "Transformação de limiar"
      ],
      "metadata": {
        "id": "zTKLr8pMyw-f"
      }
    },
    {
      "cell_type": "code",
      "source": [
        "img_in = np.uint8(img)\n",
        "\n",
        "limiar = 128\n",
        "\n",
        "img_out = np.zeros_like(img)\n",
        "\n",
        "for i in range(3):\n",
        "    img_out[:, :, i] = np.where(img[:, :, i] > limiar, 255, 0)\n",
        "\n",
        "cv2.imshow('Entrada', img)\n",
        "\n",
        "cv2.imshow('Saída', img_out)\n",
        "cv2.waitKey(0)\n",
        "cv2.destroyAllWindows()"
      ],
      "metadata": {
        "colab": {
          "base_uri": "https://localhost:8080/",
          "height": 246
        },
        "id": "RyHGGB4gywjI",
        "outputId": "9305e3e0-2271-4189-a23c-c5a812684729"
      },
      "execution_count": null,
      "outputs": [
        {
          "output_type": "error",
          "ename": "NameError",
          "evalue": "ignored",
          "traceback": [
            "\u001b[0;31m---------------------------------------------------------------------------\u001b[0m",
            "\u001b[0;31mNameError\u001b[0m                                 Traceback (most recent call last)",
            "\u001b[0;32m<ipython-input-1-dbbb1eedd378>\u001b[0m in \u001b[0;36m<cell line: 1>\u001b[0;34m()\u001b[0m\n\u001b[0;32m----> 1\u001b[0;31m \u001b[0mimg_in\u001b[0m \u001b[0;34m=\u001b[0m \u001b[0mnp\u001b[0m\u001b[0;34m.\u001b[0m\u001b[0muint8\u001b[0m\u001b[0;34m(\u001b[0m\u001b[0mimg_in\u001b[0m\u001b[0;34m)\u001b[0m\u001b[0;34m\u001b[0m\u001b[0;34m\u001b[0m\u001b[0m\n\u001b[0m\u001b[1;32m      2\u001b[0m \u001b[0;34m\u001b[0m\u001b[0m\n\u001b[1;32m      3\u001b[0m \u001b[0mlimiar\u001b[0m \u001b[0;34m=\u001b[0m \u001b[0;36m128\u001b[0m\u001b[0;34m\u001b[0m\u001b[0;34m\u001b[0m\u001b[0m\n\u001b[1;32m      4\u001b[0m \u001b[0;34m\u001b[0m\u001b[0m\n\u001b[1;32m      5\u001b[0m \u001b[0mimg_out\u001b[0m \u001b[0;34m=\u001b[0m \u001b[0mnp\u001b[0m\u001b[0;34m.\u001b[0m\u001b[0mzeros_like\u001b[0m\u001b[0;34m(\u001b[0m\u001b[0mimg_in\u001b[0m\u001b[0;34m)\u001b[0m\u001b[0;34m\u001b[0m\u001b[0;34m\u001b[0m\u001b[0m\n",
            "\u001b[0;31mNameError\u001b[0m: name 'np' is not defined"
          ]
        }
      ]
    },
    {
      "cell_type": "markdown",
      "source": [
        " Transformação de limiar com fatiamento de plano"
      ],
      "metadata": {
        "id": "5MG_v2eazc4s"
      }
    },
    {
      "cell_type": "code",
      "source": [
        "img_in = np.uint8(img)\n",
        "\n",
        "a = 50\n",
        "b = 200\n",
        "\n",
        "img_out = np.zeros_like(img_in)\n",
        "\n",
        "for i in range(3):\n",
        "    img_out[:, :, i] = np.where((img_in[:, :, i] >= a) & (img_in[:, :, i] <= b), 255, img_in[:, :, i])\n",
        "\n",
        "cv2.imshow('Entrada', img_in)\n",
        "cv2.imshow('Saída', img_out)\n",
        "cv2.waitKey(0)\n",
        "cv2.destroyAllWindows()"
      ],
      "metadata": {
        "id": "HqxHVyfOzF3H"
      },
      "execution_count": null,
      "outputs": []
    }
  ]
}