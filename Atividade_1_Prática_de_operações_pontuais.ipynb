{
  "nbformat": 4,
  "nbformat_minor": 0,
  "metadata": {
    "colab": {
      "provenance": [],
      "authorship_tag": "ABX9TyN080uP6MQduKXC73IBLTF1",
      "include_colab_link": true
    },
    "kernelspec": {
      "name": "python3",
      "display_name": "Python 3"
    },
    "language_info": {
      "name": "python"
    }
  },
  "cells": [
    {
      "cell_type": "markdown",
      "metadata": {
        "id": "view-in-github",
        "colab_type": "text"
      },
      "source": [
        "<a href=\"https://colab.research.google.com/github/jp-prud/PDI/blob/main/Atividade_1_Pr%C3%A1tica_de_opera%C3%A7%C3%B5es_pontuais.ipynb\" target=\"_parent\"><img src=\"https://colab.research.google.com/assets/colab-badge.svg\" alt=\"Open In Colab\"/></a>"
      ]
    },
    {
      "cell_type": "markdown",
      "source": [
        "### Prática com Operações Pontuais e OpenCV\n",
        "\n",
        "Conversão de imagem RGB em imagem Grayscale"
      ],
      "metadata": {
        "id": "q_2qAHvxocSI"
      }
    },
    {
      "cell_type": "code",
      "execution_count": null,
      "metadata": {
        "id": "f_S_cq46nv0R"
      },
      "outputs": [],
      "source": [
        "import cv2\n",
        "import numpy as np\n",
        "import matplotlib.pyplot as plt\n",
        "\n",
        "img = cv2.imread('t1.jpg')\n",
        "\n",
        "B, G, R = cv2.split(img)\n",
        "img_grayscale_basic_cv2 = cv2.addWeighted(B, 1/3.0, G, 1/3.0, 0)\n",
        "img_grayscale_basic_cv2 = cv2.addWeighted(img_grayscale_basic_cv2, 1.0, R, 1/3.0, 0)\n",
        "\n",
        "cv2.imshow('Imagem em Tons de Cinza', img_grayscale_basic_cv2)\n",
        "cv2.waitKey(0)\n",
        "cv2.destroyAllWindows()"
      ]
    },
    {
      "cell_type": "markdown",
      "source": [
        "Faz a separação dos três canais da imagem, juntamente com suas intensidades, sendo Azul, Verde e Vermelho.\n",
        "Realiza a O valor \"1/3\" é usado como um fator de ponderação ao combinar os canais de cores para criar uma imagem em escala de cinza.\n",
        "Em sequencia, faz a mesclagem do vermelho com o restante da imagem.\n",
        "\n",
        "---\n",
        "[Imagem em Tons de Cinza](https://imgur.com/refUWK0)"
      ],
      "metadata": {
        "id": "7z6jRbIc7Mlb"
      }
    },
    {
      "cell_type": "markdown",
      "source": [
        "Conversão ponderada"
      ],
      "metadata": {
        "id": "j6uJZHY3paus"
      }
    },
    {
      "cell_type": "code",
      "source": [
        "weight_b = 0.3\n",
        "weight_g = 0.59\n",
        "weight_r = 0.11\n",
        "\n",
        "B, G, R = cv2.split(img)\n",
        "img_grayscale_pondered_cv2 = (weight_b * B + weight_g * G + weight_r * R)\n",
        "img_grayscale_pondered_cv2 = cv2.convertScaleAbs(img_grayscale_pondered_cv2)\n",
        "img_grayscale_pondered = np.array(img_grayscale_pondered_cv2, dtype=np.uint8)\n",
        "\n",
        "cv2.imshow('Imagem com Média Ponderada', img_grayscale_pondered)\n",
        "cv2.waitKey(0)\n",
        "cv2.destroyAllWindows()"
      ],
      "metadata": {
        "id": "8brVFPlppewT"
      },
      "execution_count": null,
      "outputs": []
    },
    {
      "cell_type": "markdown",
      "source": [
        "Faz a declaração inicial dos valores que vão ser utilizados no ponderamento dos canais. Tais valores fora, escolhidos com base na percepção visual humana e são comumente utilizados para conversões. Referência: [IMAGE.SC](https://forum.image.sc/t/extracting-red-from-an-rgb-image-and-quantify-the-redness/73526/26?page=2).\n",
        "Em sequência, aplica o cálculo sob cada canal da imagem, e depois converte os resultados para valores de intensidade absoluta. A conversão dos resultados para valores de intensidade absoluta é realizada para garantir que os valores resultantes estejam no intervalo válido para uma imagem em escala de cinza,0 a 255, sendo 0 representando o preto e 255 representando o branco.\n",
        "\n",
        "---\n",
        "[Conversão ponderada](https://imgur.com/RdY1e4T)"
      ],
      "metadata": {
        "id": "Ze4Jp1vb-fb-"
      }
    },
    {
      "cell_type": "markdown",
      "source": [
        "Histograma"
      ],
      "metadata": {
        "id": "1zV3KH1pptHW"
      }
    },
    {
      "cell_type": "code",
      "source": [
        "intenses = np.linspace(0, 255, 256)\n",
        "histogram, _ = np.histogram(img_grayscale_basic_cv2.ravel(), bins=256, range=(0, 256))\n",
        "plt.bar(intenses, histogram, width=1.0, color='gray')\n",
        "\n",
        "plt.xlabel('Intensidade de Pixel')\n",
        "plt.ylabel('Frequência')\n",
        "plt.show()"
      ],
      "metadata": {
        "id": "TcyluELdpxlX"
      },
      "execution_count": null,
      "outputs": []
    },
    {
      "cell_type": "markdown",
      "source": [
        "Inicia fazendo a definição de um intervalo de valores que podem ser encontrados em uma imagem de escala cinza ( 0 a 255).\n",
        "Em sequência, realiza-se o \"achatamento\" da imagem para transformar em um array unidimensional para que o histograma possa ser calculado sobre todos os pixels."
      ],
      "metadata": {
        "id": "8Vje7HYbS-tL"
      }
    },
    {
      "cell_type": "markdown",
      "source": [
        "\n",
        "\n",
        "---\n",
        "[Histograma](https://imgur.com/Aqv4EwW)"
      ],
      "metadata": {
        "id": "lmrIzJdQ_cnM"
      }
    },
    {
      "cell_type": "markdown",
      "source": [
        "Histograma normalizado"
      ],
      "metadata": {
        "id": "OTU_DY_6qLe_"
      }
    },
    {
      "cell_type": "code",
      "source": [
        "intensidades = np.linspace(0, 255, 256)\n",
        "\n",
        "histogram, _ = np.histogram(img.ravel(), bins=256, range=(0, 256))\n",
        "histogram_normalized = histogram / float(np.sum(histogram))\n",
        "\n",
        "plt.plot(intensidades, histogram_normalized, color='gray')\n",
        "\n",
        "plt.xlabel('Intensidade de Pixel')\n",
        "plt.ylabel('Frequência Normalizada')\n",
        "plt.show()"
      ],
      "metadata": {
        "id": "lpa8MAQRqRi3"
      },
      "execution_count": null,
      "outputs": []
    },
    {
      "cell_type": "markdown",
      "source": [
        "Para criar o histograma normalizado, calcula-se a soma de todas as contagens do histograma original, no caso, representa o número total de pixels da imagem, em sequência, o resultado é convertido em um número de ponto flutuante com a função \"float\", garantindo que as divisões sejam tratadas como ponto flutuante.\n",
        "[Referência](https://numpy.org/doc/stable/reference/generated/numpy.histogram.html)\n",
        "\n",
        "---\n",
        "[Histograma normalizado](https://imgur.com/6n8TF6h)\n",
        "\n"
      ],
      "metadata": {
        "id": "xr2jW-QA_uzD"
      }
    },
    {
      "cell_type": "markdown",
      "source": [
        "Transformação negativa"
      ],
      "metadata": {
        "id": "R_nggSu1qZ-V"
      }
    },
    {
      "cell_type": "code",
      "source": [
        "img_in = np.uint8(img)\n",
        "img_negative_np = 255 - img_in\n",
        "cv2.imshow('Entrada', img_in)\n",
        "\n",
        "cv2.imshow('Saída', img_negative_np)\n",
        "cv2.waitKey(0)\n",
        "cv2.destroyAllWindows()"
      ],
      "metadata": {
        "id": "6hwag1oDqi6O"
      },
      "execution_count": null,
      "outputs": []
    },
    {
      "cell_type": "markdown",
      "source": [
        "Transforma uma imagem em negativa invertendo os valores dos pixels, onde cada pixel da imagem de entrada 'img' é subtraído de 255 para obter a imagem negativa. [Referência](https://medium.com/mlearning-ai/how-to-generate-a-negative-image-in-python-using-opencv-interesting-project-439da0c19544) [Transformação negativa](https://imgur.com/8IHXh6g)"
      ],
      "metadata": {
        "id": "g6J8EtdJASQS"
      }
    },
    {
      "cell_type": "markdown",
      "source": [
        "Transformação logaritimica"
      ],
      "metadata": {
        "id": "iMx1vNocqq4G"
      }
    },
    {
      "cell_type": "code",
      "source": [
        "img_in = np.uint8(img)\n",
        "\n",
        "c = 0.1\n",
        "img_out = c * np.log1p(img_in)\n",
        "img_out = np.uint8(img_out)\n",
        "\n",
        "cv2.imshow('Entrada', img_in)\n",
        "\n",
        "cv2.imshow('Saída', img_out)\n",
        "cv2.waitKey(0)\n",
        "cv2.destroyAllWindows()"
      ],
      "metadata": {
        "id": "G8NMKmf0qug5"
      },
      "execution_count": null,
      "outputs": []
    },
    {
      "cell_type": "markdown",
      "source": [
        "Inicia-se com a definição do fator de escala que determina o quanto a transformação irá aftear a imagem, neste caso, um valor maior ampliará o efeito da transformação, enquanto um valor menor irá suavizar o efeito. Seguindo, a função \"log1p\" irá aplicar uma função em cada pixel da imagem, sendo log(1+x), depois de calcular esses valores, eles são multiplicados pelo fator de escala, ajustando o contraste e a intensidade da imagem. [Referência](https://numpy.org/doc/stable/reference/generated/numpy.log1p.html)\n",
        "\n",
        "---\n",
        "[Transformação logaritimica](https://imgur.com/4onSQFv)"
      ],
      "metadata": {
        "id": "mWa2chyJCuLc"
      }
    },
    {
      "cell_type": "markdown",
      "source": [
        "Transformação gamma"
      ],
      "metadata": {
        "id": "zQelwE2fqxNT"
      }
    },
    {
      "cell_type": "code",
      "source": [
        "img_in = np.uint8(img)\n",
        "\n",
        "c = 1.0\n",
        "gamma = 0.8\n",
        "\n",
        "img_out = c * (img_in ** gamma)\n",
        "\n",
        "img_out = np.uint8(img_out)\n",
        "\n",
        "cv2.imshow('Entrada', img_in)\n",
        "\n",
        "cv2.imshow('Saída', img_out)\n",
        "cv2.waitKey(0)\n",
        "cv2.destroyAllWindows()"
      ],
      "metadata": {
        "id": "k0jsitQOq07f"
      },
      "execution_count": null,
      "outputs": []
    },
    {
      "cell_type": "markdown",
      "source": [
        " Aplica a conversão da imagem para o formato uint8, onde os valores variam de 0 a 255, para garantir-se que a imagem esteja no formato apropriado.\n",
        " Realiza-se a definição do fator de escala, onde ajusta-se o contraste da imagem, um valor maior implicará uma maior atuação do filtro e um valor menor suavizará o efeito. Em sequência, defini-se o parametro de transformação do gamma.\n",
        " Após as definições, a operação de correção gama é aplicada. A matriz img_in é elevada a gamma para cada pixel e, em seguida, multiplicada por c.\n",
        " [Referência](https://books.google.com.br/books?hl=pt-BR&lr=&id=i1AiEAAAQBAJ&oi=fnd&pg=PT21&dq=gamma+transformation+in+image+processing+python&ots=YHTSmHGp3-&sig=AtLvFjQgB0w3SSoqbcjNyGlnw3E#v=onepage&q=gamma%20transformation%20in%20image%20processing%20python&f=false).\n",
        "\n",
        " ---\n",
        " [Transformação gamma](https://imgur.com/COlNSUy)"
      ],
      "metadata": {
        "id": "2TiqTFGsDLbb"
      }
    },
    {
      "cell_type": "markdown",
      "source": [
        "Transformação de alargamento de contraste"
      ],
      "metadata": {
        "id": "sDOMqiptq-aw"
      }
    },
    {
      "cell_type": "code",
      "source": [
        "min_limit = 50\n",
        "max_limit = 200\n",
        "\n",
        "height, width = img.shape\n",
        "img_out = img.copy()\n",
        "\n",
        "for y in range(height):\n",
        "    for x in range(width):\n",
        "        pixel_value = img[y, x]\n",
        "        if pixel_value < min_limit:\n",
        "            img_out[y, x] = 0\n",
        "        elif pixel_value > max_limit:\n",
        "            img_out[y, x] = 255\n",
        "        else:\n",
        "            img_out[y, x] = int((pixel_value - min_limit) * (255 / (max_limit - min_limit)))\n",
        "\n",
        "cv2.imshow('Entrada', img)\n",
        "cv2.imshow('Saída', img_out)\n",
        "cv2.waitKey(0)\n",
        "cv2.destroyAllWindows()"
      ],
      "metadata": {
        "id": "4GGQbpd0rLPT"
      },
      "execution_count": null,
      "outputs": []
    },
    {
      "cell_type": "markdown",
      "source": [
        "Percorre cada pixel na imagem original e aplica a transformação de alargamento de contraste. Para cada pixel, o código verifica se o valor de intensidade está abaixo de min_limit e define o valor de saída para 0 se for o caso. Se o valor de intensidade estiver acima de max_limit, define o valor de saída como 255. Se o valor de intensidade estiver entre min_limit e max_limit, ele é ajustado para um novo valor no intervalo de 0 a 255 com base na escala. [Alargamento de contraste](https://imgur.com/HlaQ4EA)"
      ],
      "metadata": {
        "id": "WSZdfBRaJuxi"
      }
    },
    {
      "cell_type": "markdown",
      "source": [
        "Transformação de contraste e brilho"
      ],
      "metadata": {
        "id": "B57Tq7bmtJ_f"
      }
    },
    {
      "cell_type": "code",
      "source": [
        "a = 1.0\n",
        "b = 50\n",
        "\n",
        "img_out = cv2.convertScaleAbs(img, alpha=a, beta=b)\n",
        "\n",
        "cv2.imshow('Entrada', img)\n",
        "\n",
        "cv2.imshow('Saída', img)\n",
        "cv2.waitKey(0)\n",
        "cv2.destroyAllWindows()"
      ],
      "metadata": {
        "id": "8kU41a79tJug"
      },
      "execution_count": null,
      "outputs": []
    },
    {
      "cell_type": "markdown",
      "source": [
        " Aplica a transformação linear na imagem de entrada img. A intensidade de cada pixel é multiplicada por a e, em seguida, é adicionado o valor b.\n",
        "\n",
        "[Tranformação de contrate e brilho](https://imgur.com/L0ne9k0)"
      ],
      "metadata": {
        "id": "ySWJI7usKXt9"
      }
    },
    {
      "cell_type": "markdown",
      "source": [
        "Transformação de limiar"
      ],
      "metadata": {
        "id": "zTKLr8pMyw-f"
      }
    },
    {
      "cell_type": "code",
      "source": [
        "img_in = np.uint8(img)\n",
        "\n",
        "limiar = 128\n",
        "\n",
        "img_out = np.zeros_like(img)\n",
        "\n",
        "for i in range(3):\n",
        "    img_out[:, :, i] = np.where(img[:, :, i] > limiar, 255, 0)\n",
        "\n",
        "cv2.imshow('Entrada', img)\n",
        "\n",
        "cv2.imshow('Saída', img_out)\n",
        "cv2.waitKey(0)\n",
        "cv2.destroyAllWindows()"
      ],
      "metadata": {
        "id": "RyHGGB4gywjI"
      },
      "execution_count": null,
      "outputs": []
    },
    {
      "cell_type": "markdown",
      "source": [
        "Pixels com valores acima de 128 são definidos como 255 (branco), e pixels com valores iguais ou abaixo de 128 são definidos como 0 (preto). [Transformação limiar](https://imgur.com/GqX94Lw)"
      ],
      "metadata": {
        "id": "tV94x7XtM4K4"
      }
    },
    {
      "cell_type": "markdown",
      "source": [
        " Transformação de limiar com fatiamento de plano"
      ],
      "metadata": {
        "id": "5MG_v2eazc4s"
      }
    },
    {
      "cell_type": "code",
      "source": [
        "B, G, R = cv2.split(img)\n",
        "\n",
        "img_gray = cv2.addWeighted(B, 1/3.0, G, 1/3.0, 0)\n",
        "img_gray = cv2.addWeighted(img_gray, 1.0, R, 1/3.0, 0)\n",
        "\n",
        "limiar = 128\n",
        "\n",
        "height, width = img_gray.shape\n",
        "img_thresh = np.zeros((height, width), dtype=np.uint8)\n",
        "for y in range(height):\n",
        "    for x in range(width):\n",
        "        pixel = img[y, x]\n",
        "        gray_value = (int(pixel[0]) + int(pixel[1]) + int(pixel[2])) // 3\n",
        "        img_thresh[y, x] = 255 if gray_value > limiar else 0\n",
        "\n",
        "cv2.imshow('Entrada', img_gray)\n",
        "cv2.imshow('Saída', img_thresh)\n",
        "cv2.waitKey(0)\n",
        "cv2.destroyAllWindows()"
      ],
      "metadata": {
        "id": "HqxHVyfOzF3H"
      },
      "execution_count": null,
      "outputs": []
    },
    {
      "cell_type": "markdown",
      "source": [
        "Define-se o limiar que será utilizado de base para a analise dos pixels da imagem, onde teremos as divisões em duas classes de dados, os valores acima do limiar e os valores abaixo.\n",
        "Clona-se a imagem base para termos uma nova referência para a imagem final.\n",
        "Após isto, realiza-se a navegação entre os pixels da imagem aplicando a comparação do limiar, onde, o valor que for maior que o limiar, as imagem clonada terá o seu valor alterado, recebendo 255, transformando o pixel em branco. Aquele valor que for abaixo do limiar, receberá o valor de 0, transformando a mesma posição na imagem clonada em preto.\n",
        "\n",
        "---\n",
        "[Limiar de fatiamento de plano](https://imgur.com/CmxyYS7)"
      ],
      "metadata": {
        "id": "ICdFMMO83gXT"
      }
    }
  ]
}